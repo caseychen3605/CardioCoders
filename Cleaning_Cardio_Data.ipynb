{
 "cells": [
  {
   "cell_type": "code",
<<<<<<< HEAD
   "execution_count": 10,
=======
   "execution_count": 78,
>>>>>>> 366a4788a46d770174817f7866cfe2400d679a8c
   "metadata": {},
   "outputs": [],
   "source": [
    "# Add the Pandas dependency\n",
    "import pandas as pd"
   ]
  },
  {
   "cell_type": "code",
<<<<<<< HEAD
   "execution_count": 11,
=======
   "execution_count": 79,
>>>>>>> 366a4788a46d770174817f7866cfe2400d679a8c
   "metadata": {},
   "outputs": [],
   "source": [
    "# Files to load\n",
    "cardio_data_to_load = \"cardio_training.csv\""
   ]
  },
  {
   "cell_type": "code",
<<<<<<< HEAD
   "execution_count": 12,
=======
   "execution_count": 80,
>>>>>>> 366a4788a46d770174817f7866cfe2400d679a8c
   "metadata": {
    "scrolled": true
   },
   "outputs": [
    {
     "data": {
      "text/html": [
       "<div>\n",
       "<style scoped>\n",
       "    .dataframe tbody tr th:only-of-type {\n",
       "        vertical-align: middle;\n",
       "    }\n",
       "\n",
       "    .dataframe tbody tr th {\n",
       "        vertical-align: top;\n",
       "    }\n",
       "\n",
       "    .dataframe thead th {\n",
       "        text-align: right;\n",
       "    }\n",
       "</style>\n",
       "<table border=\"1\" class=\"dataframe\">\n",
       "  <thead>\n",
       "    <tr style=\"text-align: right;\">\n",
       "      <th></th>\n",
       "      <th>id</th>\n",
       "      <th>age</th>\n",
       "      <th>gender</th>\n",
       "      <th>height</th>\n",
       "      <th>weight</th>\n",
       "      <th>ap_hi</th>\n",
       "      <th>ap_lo</th>\n",
       "      <th>cholesterol</th>\n",
       "      <th>gluc</th>\n",
       "      <th>smoke</th>\n",
       "      <th>alco</th>\n",
       "      <th>active</th>\n",
       "      <th>cardio</th>\n",
       "    </tr>\n",
       "  </thead>\n",
       "  <tbody>\n",
       "    <tr>\n",
       "      <th>0</th>\n",
       "      <td>0</td>\n",
       "      <td>18393</td>\n",
       "      <td>2</td>\n",
       "      <td>168</td>\n",
       "      <td>62.0</td>\n",
       "      <td>110</td>\n",
       "      <td>80</td>\n",
       "      <td>1</td>\n",
       "      <td>1</td>\n",
       "      <td>0</td>\n",
       "      <td>0</td>\n",
       "      <td>1</td>\n",
       "      <td>0</td>\n",
       "    </tr>\n",
       "    <tr>\n",
       "      <th>1</th>\n",
       "      <td>1</td>\n",
       "      <td>20228</td>\n",
       "      <td>1</td>\n",
       "      <td>156</td>\n",
       "      <td>85.0</td>\n",
       "      <td>140</td>\n",
       "      <td>90</td>\n",
       "      <td>3</td>\n",
       "      <td>1</td>\n",
       "      <td>0</td>\n",
       "      <td>0</td>\n",
       "      <td>1</td>\n",
       "      <td>1</td>\n",
       "    </tr>\n",
       "    <tr>\n",
       "      <th>2</th>\n",
       "      <td>2</td>\n",
       "      <td>18857</td>\n",
       "      <td>1</td>\n",
       "      <td>165</td>\n",
       "      <td>64.0</td>\n",
       "      <td>130</td>\n",
       "      <td>70</td>\n",
       "      <td>3</td>\n",
       "      <td>1</td>\n",
       "      <td>0</td>\n",
       "      <td>0</td>\n",
       "      <td>0</td>\n",
       "      <td>1</td>\n",
       "    </tr>\n",
       "    <tr>\n",
       "      <th>3</th>\n",
       "      <td>3</td>\n",
       "      <td>17623</td>\n",
       "      <td>2</td>\n",
       "      <td>169</td>\n",
       "      <td>82.0</td>\n",
       "      <td>150</td>\n",
       "      <td>100</td>\n",
       "      <td>1</td>\n",
       "      <td>1</td>\n",
       "      <td>0</td>\n",
       "      <td>0</td>\n",
       "      <td>1</td>\n",
       "      <td>1</td>\n",
       "    </tr>\n",
       "    <tr>\n",
       "      <th>4</th>\n",
       "      <td>4</td>\n",
       "      <td>17474</td>\n",
       "      <td>1</td>\n",
       "      <td>156</td>\n",
       "      <td>56.0</td>\n",
       "      <td>100</td>\n",
       "      <td>60</td>\n",
       "      <td>1</td>\n",
       "      <td>1</td>\n",
       "      <td>0</td>\n",
       "      <td>0</td>\n",
       "      <td>0</td>\n",
       "      <td>0</td>\n",
       "    </tr>\n",
       "  </tbody>\n",
       "</table>\n",
       "</div>"
      ],
      "text/plain": [
       "   id    age  gender  height  weight  ap_hi  ap_lo  cholesterol  gluc  smoke  \\\n",
       "0   0  18393       2     168    62.0    110     80            1     1      0   \n",
       "1   1  20228       1     156    85.0    140     90            3     1      0   \n",
       "2   2  18857       1     165    64.0    130     70            3     1      0   \n",
       "3   3  17623       2     169    82.0    150    100            1     1      0   \n",
       "4   4  17474       1     156    56.0    100     60            1     1      0   \n",
       "\n",
       "   alco  active  cardio  \n",
       "0     0       1       0  \n",
       "1     0       1       1  \n",
       "2     0       0       1  \n",
       "3     0       1       1  \n",
       "4     0       0       0  "
      ]
     },
<<<<<<< HEAD
     "execution_count": 12,
=======
     "execution_count": 80,
>>>>>>> 366a4788a46d770174817f7866cfe2400d679a8c
     "metadata": {},
     "output_type": "execute_result"
    }
   ],
   "source": [
    "# Read the cardio data file and store it in a Pandas DataFrame.\n",
    "cardio_data_df = pd.read_csv(cardio_data_to_load)\n",
    "cardio_data_df.head()"
   ]
  },
  {
   "cell_type": "code",
<<<<<<< HEAD
   "execution_count": 13,
=======
   "execution_count": 81,
>>>>>>> 366a4788a46d770174817f7866cfe2400d679a8c
   "metadata": {},
   "outputs": [
    {
     "data": {
      "text/html": [
       "<div>\n",
       "<style scoped>\n",
       "    .dataframe tbody tr th:only-of-type {\n",
       "        vertical-align: middle;\n",
       "    }\n",
       "\n",
       "    .dataframe tbody tr th {\n",
       "        vertical-align: top;\n",
       "    }\n",
       "\n",
       "    .dataframe thead th {\n",
       "        text-align: right;\n",
       "    }\n",
       "</style>\n",
       "<table border=\"1\" class=\"dataframe\">\n",
       "  <thead>\n",
       "    <tr style=\"text-align: right;\">\n",
       "      <th></th>\n",
       "      <th>id</th>\n",
       "      <th>age</th>\n",
       "      <th>gender</th>\n",
       "      <th>height</th>\n",
       "      <th>weight</th>\n",
       "      <th>ap_hi</th>\n",
       "      <th>ap_lo</th>\n",
       "      <th>cholesterol</th>\n",
       "      <th>gluc</th>\n",
       "      <th>smoke</th>\n",
       "      <th>alco</th>\n",
       "      <th>active</th>\n",
       "      <th>cardio</th>\n",
       "    </tr>\n",
       "  </thead>\n",
       "  <tbody>\n",
       "    <tr>\n",
       "      <th>0</th>\n",
       "      <td>0</td>\n",
       "      <td>50</td>\n",
       "      <td>2</td>\n",
       "      <td>168</td>\n",
       "      <td>62.0</td>\n",
       "      <td>110</td>\n",
       "      <td>80</td>\n",
       "      <td>1</td>\n",
       "      <td>1</td>\n",
       "      <td>0</td>\n",
       "      <td>0</td>\n",
       "      <td>1</td>\n",
       "      <td>0</td>\n",
       "    </tr>\n",
       "    <tr>\n",
       "      <th>1</th>\n",
       "      <td>1</td>\n",
       "      <td>55</td>\n",
       "      <td>1</td>\n",
       "      <td>156</td>\n",
       "      <td>85.0</td>\n",
       "      <td>140</td>\n",
       "      <td>90</td>\n",
       "      <td>3</td>\n",
       "      <td>1</td>\n",
       "      <td>0</td>\n",
       "      <td>0</td>\n",
       "      <td>1</td>\n",
       "      <td>1</td>\n",
       "    </tr>\n",
       "    <tr>\n",
       "      <th>2</th>\n",
       "      <td>2</td>\n",
       "      <td>52</td>\n",
       "      <td>1</td>\n",
       "      <td>165</td>\n",
       "      <td>64.0</td>\n",
       "      <td>130</td>\n",
       "      <td>70</td>\n",
       "      <td>3</td>\n",
       "      <td>1</td>\n",
       "      <td>0</td>\n",
       "      <td>0</td>\n",
       "      <td>0</td>\n",
       "      <td>1</td>\n",
       "    </tr>\n",
       "    <tr>\n",
       "      <th>3</th>\n",
       "      <td>3</td>\n",
       "      <td>48</td>\n",
       "      <td>2</td>\n",
       "      <td>169</td>\n",
       "      <td>82.0</td>\n",
       "      <td>150</td>\n",
       "      <td>100</td>\n",
       "      <td>1</td>\n",
       "      <td>1</td>\n",
       "      <td>0</td>\n",
       "      <td>0</td>\n",
       "      <td>1</td>\n",
       "      <td>1</td>\n",
       "    </tr>\n",
       "    <tr>\n",
       "      <th>4</th>\n",
       "      <td>4</td>\n",
       "      <td>48</td>\n",
       "      <td>1</td>\n",
       "      <td>156</td>\n",
       "      <td>56.0</td>\n",
       "      <td>100</td>\n",
       "      <td>60</td>\n",
       "      <td>1</td>\n",
       "      <td>1</td>\n",
       "      <td>0</td>\n",
       "      <td>0</td>\n",
       "      <td>0</td>\n",
       "      <td>0</td>\n",
       "    </tr>\n",
       "  </tbody>\n",
       "</table>\n",
       "</div>"
      ],
      "text/plain": [
       "   id age  gender  height  weight  ap_hi  ap_lo  cholesterol  gluc  smoke  \\\n",
       "0   0  50       2     168    62.0    110     80            1     1      0   \n",
       "1   1  55       1     156    85.0    140     90            3     1      0   \n",
       "2   2  52       1     165    64.0    130     70            3     1      0   \n",
       "3   3  48       2     169    82.0    150    100            1     1      0   \n",
       "4   4  48       1     156    56.0    100     60            1     1      0   \n",
       "\n",
       "   alco  active  cardio  \n",
       "0     0       1       0  \n",
       "1     0       1       1  \n",
       "2     0       0       1  \n",
       "3     0       1       1  \n",
       "4     0       0       0  "
      ]
     },
<<<<<<< HEAD
     "execution_count": 13,
=======
     "execution_count": 81,
>>>>>>> 366a4788a46d770174817f7866cfe2400d679a8c
     "metadata": {},
     "output_type": "execute_result"
    }
   ],
   "source": [
    "# Create new column with coverted 'age'.\n",
    "cardio_data_df['cardio_age'] = cardio_data_df['age'] / 365\n",
    "\n",
    "# Format the data (round age down so that year is a whole number)\n",
    "cardio_data_df['cardio_age'] = cardio_data_df['cardio_age'].map(\"{:.0f}\".format)\n",
    "\n",
    "# Drop the original 'age' column.\n",
    "cardio_data_df.drop('age', axis=1, inplace=True)\n",
    "\n",
    "# Rearrange the columns\n",
    "cardio_data_df = cardio_data_df[['id', 'cardio_age', 'gender', 'height', 'weight', 'ap_hi', 'ap_lo', \n",
    "                                    'cholesterol', 'gluc', 'smoke', 'alco', 'active', 'cardio']] \n",
    "\n",
    "# Rename the new 'age' column \n",
    "cardio_data_df = cardio_data_df.rename(columns = {\"cardio_age\":\"age\"}) \n",
    "cardio_data_df.head()"
   ]
  },
  {
   "cell_type": "code",
<<<<<<< HEAD
   "execution_count": 14,
=======
   "execution_count": 82,
   "metadata": {},
   "outputs": [
    {
     "data": {
      "text/plain": [
       "id               int64\n",
       "age             object\n",
       "gender           int64\n",
       "height           int64\n",
       "weight         float64\n",
       "ap_hi            int64\n",
       "ap_lo            int64\n",
       "cholesterol      int64\n",
       "gluc             int64\n",
       "smoke            int64\n",
       "alco             int64\n",
       "active           int64\n",
       "cardio           int64\n",
       "dtype: object"
      ]
     },
     "execution_count": 82,
     "metadata": {},
     "output_type": "execute_result"
    }
   ],
   "source": [
    "cardio_data_df.dtypes"
   ]
  },
  {
   "cell_type": "code",
   "execution_count": 83,
   "metadata": {},
   "outputs": [],
   "source": [
    "# Remove outliers in the 'ap_lo' coulmn that are below 60\n",
    "cardio_data_df.drop(cardio_data_df[cardio_data_df['ap_lo'] < 60].index, inplace = True)\n",
    "\n",
    "# Remove outliers in the 'ap_lo' coulmn that are above 140\n",
    "cardio_data_df.drop(cardio_data_df[cardio_data_df['ap_lo'] > 140].index, inplace = True)"
   ]
  },
  {
   "cell_type": "code",
   "execution_count": 84,
   "metadata": {},
   "outputs": [],
   "source": [
    "# Remove outliers in the 'ap_hi' coulmn that are above 200\n",
    "cardio_data_df.drop(cardio_data_df[cardio_data_df['ap_hi'] > 200].index, inplace = True)\n",
    "\n",
    "# Remove outliers in the 'ap_hi' coulmn that are below 100\n",
    "cardio_data_df.drop(cardio_data_df[cardio_data_df['ap_hi'] < 100].index, inplace = True)"
   ]
  },
  {
   "cell_type": "code",
   "execution_count": 85,
>>>>>>> 366a4788a46d770174817f7866cfe2400d679a8c
   "metadata": {},
   "outputs": [
    {
     "data": {
<<<<<<< HEAD
      "text/plain": [
       "id               int64\n",
       "age             object\n",
       "gender           int64\n",
       "height           int64\n",
       "weight         float64\n",
       "ap_hi            int64\n",
       "ap_lo            int64\n",
       "cholesterol      int64\n",
       "gluc             int64\n",
       "smoke            int64\n",
       "alco             int64\n",
       "active           int64\n",
       "cardio           int64\n",
       "dtype: object"
      ]
     },
     "execution_count": 14,
=======
      "text/html": [
       "<div>\n",
       "<style scoped>\n",
       "    .dataframe tbody tr th:only-of-type {\n",
       "        vertical-align: middle;\n",
       "    }\n",
       "\n",
       "    .dataframe tbody tr th {\n",
       "        vertical-align: top;\n",
       "    }\n",
       "\n",
       "    .dataframe thead th {\n",
       "        text-align: right;\n",
       "    }\n",
       "</style>\n",
       "<table border=\"1\" class=\"dataframe\">\n",
       "  <thead>\n",
       "    <tr style=\"text-align: right;\">\n",
       "      <th></th>\n",
       "      <th>id</th>\n",
       "      <th>age</th>\n",
       "      <th>gender</th>\n",
       "      <th>height</th>\n",
       "      <th>weight</th>\n",
       "      <th>ap_hi</th>\n",
       "      <th>ap_lo</th>\n",
       "      <th>cholesterol</th>\n",
       "      <th>gluc</th>\n",
       "      <th>smoke</th>\n",
       "      <th>alco</th>\n",
       "      <th>active</th>\n",
       "      <th>cardio</th>\n",
       "    </tr>\n",
       "  </thead>\n",
       "  <tbody>\n",
       "    <tr>\n",
       "      <th>0</th>\n",
       "      <td>0</td>\n",
       "      <td>50</td>\n",
       "      <td>2</td>\n",
       "      <td>5.51</td>\n",
       "      <td>62.0</td>\n",
       "      <td>110</td>\n",
       "      <td>80</td>\n",
       "      <td>1</td>\n",
       "      <td>1</td>\n",
       "      <td>0</td>\n",
       "      <td>0</td>\n",
       "      <td>1</td>\n",
       "      <td>0</td>\n",
       "    </tr>\n",
       "    <tr>\n",
       "      <th>1</th>\n",
       "      <td>1</td>\n",
       "      <td>55</td>\n",
       "      <td>1</td>\n",
       "      <td>5.12</td>\n",
       "      <td>85.0</td>\n",
       "      <td>140</td>\n",
       "      <td>90</td>\n",
       "      <td>3</td>\n",
       "      <td>1</td>\n",
       "      <td>0</td>\n",
       "      <td>0</td>\n",
       "      <td>1</td>\n",
       "      <td>1</td>\n",
       "    </tr>\n",
       "    <tr>\n",
       "      <th>2</th>\n",
       "      <td>2</td>\n",
       "      <td>52</td>\n",
       "      <td>1</td>\n",
       "      <td>5.41</td>\n",
       "      <td>64.0</td>\n",
       "      <td>130</td>\n",
       "      <td>70</td>\n",
       "      <td>3</td>\n",
       "      <td>1</td>\n",
       "      <td>0</td>\n",
       "      <td>0</td>\n",
       "      <td>0</td>\n",
       "      <td>1</td>\n",
       "    </tr>\n",
       "    <tr>\n",
       "      <th>3</th>\n",
       "      <td>3</td>\n",
       "      <td>48</td>\n",
       "      <td>2</td>\n",
       "      <td>5.54</td>\n",
       "      <td>82.0</td>\n",
       "      <td>150</td>\n",
       "      <td>100</td>\n",
       "      <td>1</td>\n",
       "      <td>1</td>\n",
       "      <td>0</td>\n",
       "      <td>0</td>\n",
       "      <td>1</td>\n",
       "      <td>1</td>\n",
       "    </tr>\n",
       "    <tr>\n",
       "      <th>4</th>\n",
       "      <td>4</td>\n",
       "      <td>48</td>\n",
       "      <td>1</td>\n",
       "      <td>5.12</td>\n",
       "      <td>56.0</td>\n",
       "      <td>100</td>\n",
       "      <td>60</td>\n",
       "      <td>1</td>\n",
       "      <td>1</td>\n",
       "      <td>0</td>\n",
       "      <td>0</td>\n",
       "      <td>0</td>\n",
       "      <td>0</td>\n",
       "    </tr>\n",
       "  </tbody>\n",
       "</table>\n",
       "</div>"
      ],
      "text/plain": [
       "   id age  gender  height  weight  ap_hi  ap_lo  cholesterol  gluc  smoke  \\\n",
       "0   0  50       2    5.51    62.0    110     80            1     1      0   \n",
       "1   1  55       1    5.12    85.0    140     90            3     1      0   \n",
       "2   2  52       1    5.41    64.0    130     70            3     1      0   \n",
       "3   3  48       2    5.54    82.0    150    100            1     1      0   \n",
       "4   4  48       1    5.12    56.0    100     60            1     1      0   \n",
       "\n",
       "   alco  active  cardio  \n",
       "0     0       1       0  \n",
       "1     0       1       1  \n",
       "2     0       0       1  \n",
       "3     0       1       1  \n",
       "4     0       0       0  "
      ]
     },
     "execution_count": 85,
>>>>>>> 366a4788a46d770174817f7866cfe2400d679a8c
     "metadata": {},
     "output_type": "execute_result"
    }
   ],
   "source": [
<<<<<<< HEAD
    "cardio_data_df.dtypes"
   ]
  },
  {
   "cell_type": "code",
   "execution_count": 15,
   "metadata": {},
   "outputs": [],
   "source": [
    "# Remove outliers in the 'ap_lo' coulmn that are below 60\n",
    "cardio_data_df.drop(cardio_data_df[cardio_data_df['ap_lo'] < 60].index, inplace = True)\n",
    "\n",
    "# Remove outliers in the 'ap_lo' coulmn that are above 140\n",
    "cardio_data_df.drop(cardio_data_df[cardio_data_df['ap_lo'] > 140].index, inplace = True)"
   ]
  },
  {
   "cell_type": "code",
   "execution_count": 16,
   "metadata": {},
   "outputs": [],
   "source": [
    "# Remove outliers in the 'ap_hi' coulmn that are above 200\n",
    "cardio_data_df.drop(cardio_data_df[cardio_data_df['ap_hi'] > 200].index, inplace = True)\n",
    "\n",
    "# Remove outliers in the 'ap_hi' coulmn that are below 100\n",
    "cardio_data_df.drop(cardio_data_df[cardio_data_df['ap_hi'] < 100].index, inplace = True)"
   ]
  },
  {
   "cell_type": "code",
   "execution_count": 17,
   "metadata": {},
   "outputs": [],
   "source": [
    "# Convert 'height' column from cm to feet\n",
    "cardio_data_df['cardio_height'] = round(cardio_data_df['height'] * 0.0328084, 2)"
=======
    "# Convert 'height' column from cm to feet\n",
    "cardio_data_df['cardio_height'] = round(cardio_data_df['height'] * 0.0328084, 2)\n",
    "\n"
>>>>>>> 366a4788a46d770174817f7866cfe2400d679a8c
   ]
  },
  {
   "cell_type": "code",
<<<<<<< HEAD
   "execution_count": 18,
=======
   "execution_count": 86,
>>>>>>> 366a4788a46d770174817f7866cfe2400d679a8c
   "metadata": {},
   "outputs": [
    {
     "data": {
      "text/html": [
       "<div>\n",
       "<style scoped>\n",
       "    .dataframe tbody tr th:only-of-type {\n",
       "        vertical-align: middle;\n",
       "    }\n",
       "\n",
       "    .dataframe tbody tr th {\n",
       "        vertical-align: top;\n",
       "    }\n",
       "\n",
       "    .dataframe thead th {\n",
       "        text-align: right;\n",
       "    }\n",
       "</style>\n",
       "<table border=\"1\" class=\"dataframe\">\n",
       "  <thead>\n",
       "    <tr style=\"text-align: right;\">\n",
       "      <th></th>\n",
       "      <th>id</th>\n",
       "      <th>age</th>\n",
       "      <th>gender</th>\n",
       "      <th>height</th>\n",
       "      <th>weight</th>\n",
       "      <th>ap_hi</th>\n",
       "      <th>ap_lo</th>\n",
       "      <th>cholesterol</th>\n",
       "      <th>gluc</th>\n",
       "      <th>smoke</th>\n",
       "      <th>alco</th>\n",
       "      <th>active</th>\n",
       "      <th>cardio</th>\n",
       "    </tr>\n",
       "  </thead>\n",
       "  <tbody>\n",
       "    <tr>\n",
       "      <th>0</th>\n",
       "      <td>0</td>\n",
       "      <td>50</td>\n",
       "      <td>2</td>\n",
<<<<<<< HEAD
       "      <td>168</td>\n",
=======
       "      <td>5.51</td>\n",
>>>>>>> 366a4788a46d770174817f7866cfe2400d679a8c
       "      <td>136.7</td>\n",
       "      <td>110</td>\n",
       "      <td>80</td>\n",
       "      <td>1</td>\n",
       "      <td>1</td>\n",
       "      <td>0</td>\n",
       "      <td>0</td>\n",
       "      <td>1</td>\n",
       "      <td>0</td>\n",
       "    </tr>\n",
       "    <tr>\n",
       "      <th>1</th>\n",
       "      <td>1</td>\n",
       "      <td>55</td>\n",
       "      <td>1</td>\n",
<<<<<<< HEAD
       "      <td>156</td>\n",
=======
       "      <td>5.12</td>\n",
>>>>>>> 366a4788a46d770174817f7866cfe2400d679a8c
       "      <td>187.4</td>\n",
       "      <td>140</td>\n",
       "      <td>90</td>\n",
       "      <td>3</td>\n",
       "      <td>1</td>\n",
       "      <td>0</td>\n",
       "      <td>0</td>\n",
       "      <td>1</td>\n",
       "      <td>1</td>\n",
       "    </tr>\n",
       "    <tr>\n",
       "      <th>2</th>\n",
       "      <td>2</td>\n",
       "      <td>52</td>\n",
       "      <td>1</td>\n",
<<<<<<< HEAD
       "      <td>165</td>\n",
=======
       "      <td>5.41</td>\n",
>>>>>>> 366a4788a46d770174817f7866cfe2400d679a8c
       "      <td>141.1</td>\n",
       "      <td>130</td>\n",
       "      <td>70</td>\n",
       "      <td>3</td>\n",
       "      <td>1</td>\n",
       "      <td>0</td>\n",
       "      <td>0</td>\n",
       "      <td>0</td>\n",
       "      <td>1</td>\n",
       "    </tr>\n",
       "    <tr>\n",
       "      <th>3</th>\n",
       "      <td>3</td>\n",
       "      <td>48</td>\n",
       "      <td>2</td>\n",
<<<<<<< HEAD
       "      <td>169</td>\n",
=======
       "      <td>5.54</td>\n",
>>>>>>> 366a4788a46d770174817f7866cfe2400d679a8c
       "      <td>180.8</td>\n",
       "      <td>150</td>\n",
       "      <td>100</td>\n",
       "      <td>1</td>\n",
       "      <td>1</td>\n",
       "      <td>0</td>\n",
       "      <td>0</td>\n",
       "      <td>1</td>\n",
       "      <td>1</td>\n",
       "    </tr>\n",
       "    <tr>\n",
       "      <th>4</th>\n",
       "      <td>4</td>\n",
       "      <td>48</td>\n",
       "      <td>1</td>\n",
<<<<<<< HEAD
       "      <td>156</td>\n",
=======
       "      <td>5.12</td>\n",
>>>>>>> 366a4788a46d770174817f7866cfe2400d679a8c
       "      <td>123.5</td>\n",
       "      <td>100</td>\n",
       "      <td>60</td>\n",
       "      <td>1</td>\n",
       "      <td>1</td>\n",
       "      <td>0</td>\n",
       "      <td>0</td>\n",
       "      <td>0</td>\n",
       "      <td>0</td>\n",
       "    </tr>\n",
       "  </tbody>\n",
       "</table>\n",
       "</div>"
      ],
      "text/plain": [
       "   id age  gender  height  weight  ap_hi  ap_lo  cholesterol  gluc  smoke  \\\n",
<<<<<<< HEAD
       "0   0  50       2     168   136.7    110     80            1     1      0   \n",
       "1   1  55       1     156   187.4    140     90            3     1      0   \n",
       "2   2  52       1     165   141.1    130     70            3     1      0   \n",
       "3   3  48       2     169   180.8    150    100            1     1      0   \n",
       "4   4  48       1     156   123.5    100     60            1     1      0   \n",
=======
       "0   0  50       2    5.51   136.7    110     80            1     1      0   \n",
       "1   1  55       1    5.12   187.4    140     90            3     1      0   \n",
       "2   2  52       1    5.41   141.1    130     70            3     1      0   \n",
       "3   3  48       2    5.54   180.8    150    100            1     1      0   \n",
       "4   4  48       1    5.12   123.5    100     60            1     1      0   \n",
>>>>>>> 366a4788a46d770174817f7866cfe2400d679a8c
       "\n",
       "   alco  active  cardio  \n",
       "0     0       1       0  \n",
       "1     0       1       1  \n",
       "2     0       0       1  \n",
       "3     0       1       1  \n",
       "4     0       0       0  "
      ]
     },
<<<<<<< HEAD
     "execution_count": 18,
=======
     "execution_count": 86,
>>>>>>> 366a4788a46d770174817f7866cfe2400d679a8c
     "metadata": {},
     "output_type": "execute_result"
    }
   ],
   "source": [
    "# Convert 'weight' column from kg to lb\n",
    "cardio_data_df['cardio_weight'] = round(cardio_data_df['weight'] * 2.20462, 1)\n",
    "\n",
    "# Drop the original 'height' column\n",
    "cardio_data_df.drop('weight', axis=1, inplace=True)\n",
    "\n",
    "# Rearrange the columns\n",
    "cardio_data_df = cardio_data_df[['id', 'age', 'gender', 'height', 'cardio_weight', 'ap_hi', 'ap_lo', \n",
    "                                    'cholesterol', 'gluc', 'smoke', 'alco', 'active', 'cardio']]\n",
    "\n",
    "# Rename the new 'height' column\n",
    "cardio_data_df = cardio_data_df.rename(columns = {\"cardio_weight\":\"weight\"}) \n",
    "cardio_data_df.head()"
   ]
  },
  {
   "cell_type": "code",
<<<<<<< HEAD
   "execution_count": 19,
=======
   "execution_count": 99,
>>>>>>> 366a4788a46d770174817f7866cfe2400d679a8c
   "metadata": {},
   "outputs": [
    {
     "data": {
      "text/html": [
       "<div>\n",
       "<style scoped>\n",
       "    .dataframe tbody tr th:only-of-type {\n",
       "        vertical-align: middle;\n",
       "    }\n",
       "\n",
       "    .dataframe tbody tr th {\n",
       "        vertical-align: top;\n",
       "    }\n",
       "\n",
       "    .dataframe thead th {\n",
       "        text-align: right;\n",
       "    }\n",
       "</style>\n",
       "<table border=\"1\" class=\"dataframe\">\n",
       "  <thead>\n",
       "    <tr style=\"text-align: right;\">\n",
       "      <th></th>\n",
       "      <th>id</th>\n",
       "      <th>age</th>\n",
       "      <th>gender</th>\n",
       "      <th>height</th>\n",
       "      <th>weight</th>\n",
       "      <th>ap_hi</th>\n",
       "      <th>ap_lo</th>\n",
       "      <th>cholesterol</th>\n",
       "      <th>gluc</th>\n",
       "      <th>smoke</th>\n",
       "      <th>alco</th>\n",
       "      <th>active</th>\n",
       "      <th>cardio</th>\n",
       "      <th>BMI</th>\n",
       "    </tr>\n",
       "  </thead>\n",
       "  <tbody>\n",
       "    <tr>\n",
       "      <th>0</th>\n",
       "      <td>0</td>\n",
       "      <td>50</td>\n",
       "      <td>2</td>\n",
<<<<<<< HEAD
       "      <td>168</td>\n",
=======
       "      <td>5.51</td>\n",
>>>>>>> 366a4788a46d770174817f7866cfe2400d679a8c
       "      <td>136.7</td>\n",
       "      <td>110</td>\n",
       "      <td>80</td>\n",
       "      <td>1</td>\n",
       "      <td>1</td>\n",
       "      <td>0</td>\n",
       "      <td>0</td>\n",
       "      <td>1</td>\n",
       "      <td>0</td>\n",
<<<<<<< HEAD
       "      <td>40.9</td>\n",
=======
       "      <td>3165.3</td>\n",
>>>>>>> 366a4788a46d770174817f7866cfe2400d679a8c
       "    </tr>\n",
       "    <tr>\n",
       "      <th>1</th>\n",
       "      <td>1</td>\n",
       "      <td>55</td>\n",
       "      <td>1</td>\n",
<<<<<<< HEAD
       "      <td>156</td>\n",
=======
       "      <td>5.12</td>\n",
>>>>>>> 366a4788a46d770174817f7866cfe2400d679a8c
       "      <td>187.4</td>\n",
       "      <td>140</td>\n",
       "      <td>90</td>\n",
       "      <td>3</td>\n",
       "      <td>1</td>\n",
       "      <td>0</td>\n",
       "      <td>0</td>\n",
       "      <td>1</td>\n",
       "      <td>1</td>\n",
<<<<<<< HEAD
       "      <td>65.0</td>\n",
=======
       "      <td>5025.6</td>\n",
>>>>>>> 366a4788a46d770174817f7866cfe2400d679a8c
       "    </tr>\n",
       "    <tr>\n",
       "      <th>2</th>\n",
       "      <td>2</td>\n",
       "      <td>52</td>\n",
       "      <td>1</td>\n",
<<<<<<< HEAD
       "      <td>165</td>\n",
=======
       "      <td>5.41</td>\n",
>>>>>>> 366a4788a46d770174817f7866cfe2400d679a8c
       "      <td>141.1</td>\n",
       "      <td>130</td>\n",
       "      <td>70</td>\n",
       "      <td>3</td>\n",
       "      <td>1</td>\n",
       "      <td>0</td>\n",
       "      <td>0</td>\n",
       "      <td>0</td>\n",
       "      <td>1</td>\n",
<<<<<<< HEAD
       "      <td>43.7</td>\n",
=======
       "      <td>3389.1</td>\n",
>>>>>>> 366a4788a46d770174817f7866cfe2400d679a8c
       "    </tr>\n",
       "    <tr>\n",
       "      <th>3</th>\n",
       "      <td>3</td>\n",
       "      <td>48</td>\n",
       "      <td>2</td>\n",
<<<<<<< HEAD
       "      <td>169</td>\n",
=======
       "      <td>5.54</td>\n",
>>>>>>> 366a4788a46d770174817f7866cfe2400d679a8c
       "      <td>180.8</td>\n",
       "      <td>150</td>\n",
       "      <td>100</td>\n",
       "      <td>1</td>\n",
       "      <td>1</td>\n",
       "      <td>0</td>\n",
       "      <td>0</td>\n",
       "      <td>1</td>\n",
       "      <td>1</td>\n",
<<<<<<< HEAD
       "      <td>53.4</td>\n",
=======
       "      <td>4141.3</td>\n",
>>>>>>> 366a4788a46d770174817f7866cfe2400d679a8c
       "    </tr>\n",
       "    <tr>\n",
       "      <th>4</th>\n",
       "      <td>4</td>\n",
       "      <td>48</td>\n",
       "      <td>1</td>\n",
<<<<<<< HEAD
       "      <td>156</td>\n",
=======
       "      <td>5.12</td>\n",
>>>>>>> 366a4788a46d770174817f7866cfe2400d679a8c
       "      <td>123.5</td>\n",
       "      <td>100</td>\n",
       "      <td>60</td>\n",
       "      <td>1</td>\n",
       "      <td>1</td>\n",
       "      <td>0</td>\n",
       "      <td>0</td>\n",
       "      <td>0</td>\n",
       "      <td>0</td>\n",
<<<<<<< HEAD
       "      <td>42.8</td>\n",
=======
       "      <td>3311.9</td>\n",
>>>>>>> 366a4788a46d770174817f7866cfe2400d679a8c
       "    </tr>\n",
       "  </tbody>\n",
       "</table>\n",
       "</div>"
      ],
      "text/plain": [
       "   id age  gender  height  weight  ap_hi  ap_lo  cholesterol  gluc  smoke  \\\n",
<<<<<<< HEAD
       "0   0  50       2     168   136.7    110     80            1     1      0   \n",
       "1   1  55       1     156   187.4    140     90            3     1      0   \n",
       "2   2  52       1     165   141.1    130     70            3     1      0   \n",
       "3   3  48       2     169   180.8    150    100            1     1      0   \n",
       "4   4  48       1     156   123.5    100     60            1     1      0   \n",
       "\n",
       "   alco  active  cardio   BMI  \n",
       "0     0       1       0  40.9  \n",
       "1     0       1       1  65.0  \n",
       "2     0       0       1  43.7  \n",
       "3     0       1       1  53.4  \n",
       "4     0       0       0  42.8  "
      ]
     },
     "execution_count": 19,
=======
       "0   0  50       2    5.51   136.7    110     80            1     1      0   \n",
       "1   1  55       1    5.12   187.4    140     90            3     1      0   \n",
       "2   2  52       1    5.41   141.1    130     70            3     1      0   \n",
       "3   3  48       2    5.54   180.8    150    100            1     1      0   \n",
       "4   4  48       1    5.12   123.5    100     60            1     1      0   \n",
       "\n",
       "   alco  active  cardio     BMI  \n",
       "0     0       1       0  3165.3  \n",
       "1     0       1       1  5025.6  \n",
       "2     0       0       1  3389.1  \n",
       "3     0       1       1  4141.3  \n",
       "4     0       0       0  3311.9  "
      ]
     },
     "execution_count": 99,
>>>>>>> 366a4788a46d770174817f7866cfe2400d679a8c
     "metadata": {},
     "output_type": "execute_result"
    }
   ],
   "source": [
    "# Add a BMI (body mass index) column\n",
    "# Forumla for BMI = (weight (lbs) / (height (in) * height (in))) * 703\n",
<<<<<<< HEAD
    "cardio_data_df['BMI'] = round(((cardio_data_df['weight'] * 12) / cardio_data_df['height'] ** 2) * 703, 1)\n",
=======
    "cardio_data_df['BMI'] = round((cardio_data_df['weight'] / cardio_data_df['height'] ** 2) * 703, 1)\n",
>>>>>>> 366a4788a46d770174817f7866cfe2400d679a8c
    "cardio_data_df.head()"
   ]
  },
  {
   "cell_type": "code",
<<<<<<< HEAD
   "execution_count": 20,
=======
   "execution_count": 100,
>>>>>>> 366a4788a46d770174817f7866cfe2400d679a8c
   "metadata": {},
   "outputs": [
    {
     "data": {
      "text/plain": [
       "(67482, 14)"
      ]
     },
<<<<<<< HEAD
     "execution_count": 20,
=======
     "execution_count": 100,
>>>>>>> 366a4788a46d770174817f7866cfe2400d679a8c
     "metadata": {},
     "output_type": "execute_result"
    }
   ],
   "source": [
    "cardio_data_df.shape"
   ]
  },
  {
   "cell_type": "code",
<<<<<<< HEAD
   "execution_count": 21,
=======
   "execution_count": 101,
>>>>>>> 366a4788a46d770174817f7866cfe2400d679a8c
   "metadata": {},
   "outputs": [],
   "source": [
    "cardio_data_df.to_csv(r'cardio_training_clean.csv', index = False)"
   ]
  },
  {
   "cell_type": "code",
   "execution_count": null,
   "metadata": {},
   "outputs": [],
   "source": []
  }
 ],
 "metadata": {
  "kernelspec": {
   "display_name": "Python 3",
   "language": "python",
   "name": "python3"
  },
  "language_info": {
   "codemirror_mode": {
    "name": "ipython",
    "version": 3
   },
   "file_extension": ".py",
   "mimetype": "text/x-python",
   "name": "python",
   "nbconvert_exporter": "python",
   "pygments_lexer": "ipython3",
   "version": "3.8.3"
  }
 },
 "nbformat": 4,
 "nbformat_minor": 4
}
